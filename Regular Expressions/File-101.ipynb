{
 "cells": [
  {
   "cell_type": "code",
   "execution_count": 22,
   "id": "93c8ee1a-e4f6-4d6f-9bb8-f741972e7d0f",
   "metadata": {
    "tags": []
   },
   "outputs": [],
   "source": [
    "# modules required\n",
    "import re\n",
    "import numpy\n",
    "\n",
    "# load the data into the namespace\n",
    "rawfile = open(\"/home/ahmed/vimwiki/Projects/111/Vanilla/Regular Expressions/captions_text.vtt\",'r')"
   ]
  },
  {
   "cell_type": "code",
   "execution_count": 23,
   "id": "e5a8069f-e169-4626-acae-89cf54528420",
   "metadata": {
    "tags": []
   },
   "outputs": [],
   "source": [
    "# read the file\n",
    "file = (rawfile.read())"
   ]
  },
  {
   "cell_type": "code",
   "execution_count": 24,
   "id": "5f99fe54-6d85-4640-a9fd-307dfa33d392",
   "metadata": {
    "tags": []
   },
   "outputs": [
    {
     "data": {
      "text/plain": [
       "\"WEBVTT\\n\\n0\\n00:00.760 --> 00:05.080\\nI'm now going to give you two more example problems of computing.\\n\""
      ]
     },
     "execution_count": 24,
     "metadata": {},
     "output_type": "execute_result"
    }
   ],
   "source": [
    "str(file[:100])"
   ]
  },
  {
   "cell_type": "code",
   "execution_count": 34,
   "id": "a2771368-ee04-414a-acfe-e3968978bad7",
   "metadata": {
    "tags": []
   },
   "outputs": [
    {
     "data": {
      "text/plain": [
       "['jhon']"
      ]
     },
     "execution_count": 34,
     "metadata": {},
     "output_type": "execute_result"
    }
   ],
   "source": [
    "# brief of demonstation\n",
    "sentence = \"Hi my name is jhon, and i like chcoloates\"\n",
    "name = re.compile(\"jhon\")\n",
    "name.findall(sentence)"
   ]
  },
  {
   "cell_type": "code",
   "execution_count": 35,
   "id": "6027b46b-e91b-49f5-871b-2bc71c116971",
   "metadata": {
    "tags": []
   },
   "outputs": [
    {
     "data": {
      "text/plain": [
       "'Hi my name is Mike, and i like chcoloates'"
      ]
     },
     "execution_count": 35,
     "metadata": {},
     "output_type": "execute_result"
    }
   ],
   "source": [
    "name.sub(\"Mike\",sentence)"
   ]
  },
  {
   "cell_type": "code",
   "execution_count": 36,
   "id": "890cc3d9-600c-4c62-b939-3985565bf1e9",
   "metadata": {
    "tags": []
   },
   "outputs": [
    {
     "data": {
      "text/plain": [
       "['Jhon']"
      ]
     },
     "execution_count": 70,
     "metadata": {},
     "output_type": "execute_result"
    }
   ],
   "source": [
    "sentence = \"Hi, my name is Jhon and i like selling lolipops\"\n",
    "\n",
    "name = re.compile(r\"J\\won\")\n",
    "name.findall(sentence)"
   ]
  },
  {
   "cell_type": "code",
   "execution_count": 25,
   "id": "0f3984a1-b26c-404f-8ca2-691911c8077d",
   "metadata": {
    "tags": []
   },
   "outputs": [
    {
     "data": {
      "text/plain": [
       "['\\n\\n0\\n00:00.760 --> 00:05.080\\n',\n",
       " '\\n\\n1\\n00:05.080 --> 00:09.310\\n',\n",
       " '\\n\\n2\\n00:09.310 --> 00:14.860\\n',\n",
       " '\\n\\n3\\n00:14.860 --> 00:15.520\\n',\n",
       " '\\n\\n4\\n00:15.520 --> 00:19.270\\n',\n",
       " '\\n\\n5\\n00:19.270 --> 00:20.530\\n',\n",
       " '\\n\\n6\\n00:20.560 --> 00:28.030\\n',\n",
       " '\\n\\n7\\n00:28.060 --> 00:37.120\\n',\n",
       " '\\n\\n8\\n00:37.120 --> 00:44.260\\n',\n",
       " '\\n\\n9\\n00:44.290 --> 00:48.820\\n']"
      ]
     },
     "execution_count": 25,
     "metadata": {},
     "output_type": "execute_result"
    }
   ],
   "source": [
    "# replacing certain pattern with desired text\n",
    "'\\n\\n1\\n00:05.080 --> 00:09.310\\n'\n",
    "pattern = '\\n\\n\\d{1,3}\\n\\d\\d:\\d\\d.\\d\\d\\d --> \\d\\d:\\d\\d.\\d\\d\\d\\n'\n",
    "target = re.compile(pattern)\n",
    "\n",
    "target.findall(file)[:10]"
   ]
  },
  {
   "cell_type": "code",
   "execution_count": 26,
   "id": "1b3fd1e0-022e-42ac-8a10-0eab82875aaf",
   "metadata": {
    "tags": []
   },
   "outputs": [],
   "source": [
    "file = target.sub(' ', file)\n",
    "file =  file[7:]"
   ]
  },
  {
   "cell_type": "code",
   "execution_count": 27,
   "id": "918930c2-dac5-4d22-8363-e80d2205e9a8",
   "metadata": {
    "tags": []
   },
   "outputs": [],
   "source": [
    "# replacing 4 letter word's last 3 characters with star \n",
    "file = file.split()\n",
    "\n",
    "for word in range(len(file)):\n",
    "    if len(file[word])==4 and not file[word][-1]=='.' and not file[word][-2]=='\\'':\n",
    "        file[word] = file[word][0]+'***'"
   ]
  },
  {
   "cell_type": "code",
   "execution_count": 28,
   "id": "bf84d589-f785-49e8-8aec-6dd9b3a266bf",
   "metadata": {
    "tags": []
   },
   "outputs": [
    {
     "data": {
      "text/plain": [
       "\"I'm now going to g*** you two m*** example problems of computing. eigendecomposition of matrices by hand. Obviously t*** is on the computer but I encourage you to do these problems by h*** and they're not d*** in Matlab. So I guess that's w*** it means by hand. So let's get started. H*** is a two by two matrix and you should pause the video go through f*** the eigenvalues and the eigenvectors of t*** matrix so the way we start is by shifting the matrix by Lambda so subtracting lambda f*** the diagonal elements setting the determinant equal to z*** and t*** proceeding to compute the determinant which is a*** called the characteristic equation of t*** matrix. So t*** works out to be three minus lambda times six minus lambda minus f*** equals z*** and t*** expanding these two terms multiplying out these two terms and t*** collecting the l*** terms gives us lambda squared minus n*** lambda p*** fourteen equals z*** and t*** t*** expression h*** can be factored i*** lambda minus seven and Lambda minus two and now it's pretty e*** to see t*** the two lambdas t*** w*** solve t*** equation t*** solve t*** equation. In other words the two eigenvalues of t*** matrix are p*** 7 and p*** two. So t*** was s*** one we found the eigenvalues of t*** matrix and now we go through for e*** of these eigenvalues shift the matrix by t*** amount by t*** value and t*** figure out w*** is a vector in the shifted matrices n*** space. OK so let's start w*** 2. So t*** gives us the matrix 1 1 4 4. And now we w*** to f*** the missing vector h*** and you've probably guessed it already it is 1 minus 1. And of course you k*** t*** a*** acceptable would be minus 1 1 or minus quadrillion p*** quadrillion. T*** vector simply identifies a subspace for the n*** space of t*** shifted matrix in any vector that's in t*** n*** space is perfectly f*** as an eigenvector. Now t*** s*** the b*** choice for an eigenvector would be a vector t*** has a n*** of 1 a magnitude of 1. And the second b*** choice would be integer values t*** are e*** to interpret and compact to write l*** this. All right. So t*** was for two. Now we go to the second eigenvalues which was seven and t*** gives us t*** matrix minus 4 1 and 4 minus 1. And h*** a vector t*** could w*** as an eigenvector as a basis for the n*** space of t*** shifted matrix is the numbers 1 4. So h*** is the big picture overview we h*** t*** matrix and h*** you see the eigenvalue and its corresponding eigenvector and the other eigenvalue and the other corresponding eigenvector. Now y*** results w*** be correct. If you h*** the correct pairing of eigenvalue and any multiple any scaled version of t*** vector; it doesn't matter if you c*** t*** lambda one and t*** V one that's f*** because there's no intrinsic ordering. W*** matters is t*** you h*** the pairing correct. All right. So t*** was the two by two case. Now let's go for a three by three case. T*** one is a little bit m*** challenging and I h*** to admit. So I first c*** up w*** these numbers and t*** I started computing the eigendecomposition. Now I h*** to admit t*** I got stuck on one of the eigenvectors. I couldn't quite figure it out on my own. So I u*** Matlab to compute t*** eigenvector. So w*** I encourage you to do is f*** all three eigenvalues by h*** and I think it w*** be pretty obvious w*** you start working through it which is the difficult eigenvalue. So t*** w*** you should do by h*** is f*** two of the eigenvectors t*** you can get basically j*** by k*** of eyeballing and making s*** educated guesses. And t*** the third eigenvector you can use a computer to solve or you can j*** w*** and watch me c*** up w*** a solution. All right. So again we start by shifting t*** matrix by minus lambda setting the determinant equal to z*** and t*** proceeding to compute the determinant of t*** equation and altogether t*** gives us the characteristic equation of t*** matrix. Now t*** is a little bit longer. It's a little bit trickier the arithmetic g*** a little bit hairy in particular you end up w*** t*** minus lambda cubed t*** as w*** as a couple of multiple terms w*** Lambda and Lambda squared. Now o*** you collect all of these l*** terms you'll end up w*** an expression t*** looks l*** this. So it should be minus lambda cubed p*** 10 times lambda squared p*** eleven lambda equals z*** Now something interesting has happened h*** all of these terms h*** a lambda attached to t*** which means t*** we can t*** a lambda out of e*** of these terms and rewrite t*** expression as minus lambda times. All of t*** stuff and immediately t*** tells us t*** lambda equals z*** is a solution. So w*** you set t*** lambda to be z*** it doesn't actually matter what's inside t*** parenthetical statement that's immediately going to set to m*** t*** equation true. T*** means t*** one of the eigenvalues of t*** matrix is z*** and I'm going to h*** an entire video j*** about t*** phenomenon a little bit later in t*** section. But essentially w*** an eigenvector is an eigenvalue is zero. It means t*** the matrix is singular and t*** you can actually see by looking at t*** matrix and you see t*** column 1 p*** column 2 equals column 3 so whenever you h*** a singular matrix at least one eigenvalues value is going to be equal to zero. And in f*** the number of eigenvalues t*** are equal to z*** tells you about the r*** of t*** matrix. M*** on t*** in the later video. Now o*** you've gotten to t*** s*** you can further factor t*** equation and you end up w*** the result t*** lambda equals z*** lambda equals minus 1 and Lambda equals eleven. So you can probably guess t*** t*** is going to be the tricky I can value to compute the corresponding I can vector of and t*** is the one t*** I got a little bit stuck with. And so I u*** Matlab as a crutch. I cheated a little bit. OK so but let's go through all of these. So we start w*** z*** and now t*** is k*** of a funny thing because we are shifting the matrix by z*** which actually means we're not changing the matrix at all. And t*** means t*** t*** matrix A already has a non-trivial n*** space e*** without doing any shifting. So t*** problem actually boils d*** to finding a vector in the n*** space or a basis for the n*** space. E*** without doing any shifting so based on w*** I j*** t*** you about how do I set up t*** matrix t*** column one p*** column two equals column three a basis for the n*** space is 1 one minus 1. So you can try for e*** of these r*** the first column p*** the second column minus the third column equals z*** all right. So now let's m*** on. So now we shift t*** matrix by eleven and t*** is basically where I got stuck and switch to matlab. So it turns out t*** eigenvector is nineteen forty one and thirty six. So if you figured out t*** I can vector on y*** own without using a computer t*** g*** for you you are a better or at least m*** patient mathematician t*** I am. And t*** we get to the third eigenvalue which was minus one. So now t*** becomes p*** one. And h*** is t*** shifted matrix and t*** one you should be a*** to solve on y*** own. In f*** it's e*** easier t*** it looks. And if you n*** a h*** before I s*** the answer t*** the h*** is j*** consider t*** t*** third column is actually pretty useless if you get rid of t*** third column it becomes really e*** to f*** the eigenvector in t*** shifted matrices n*** space. So in f*** it's one minus one and t*** z*** you j*** set the third element to be zero. So t*** leads us to the big picture overview of the eigendecomposition of t*** three by three singular matrix r*** 2 matrix we h*** eigenvalues 0 minus 11 and minus 1. And these are the corresponding eigenvectors. And notice I*** written t*** as row vectors and t*** transpose. So these are still column vectors we generally always think about eigenvectors as column vectors and you w*** learn m*** about why t*** is the c*** in the video on diagonalization, which is coming up soon.\""
      ]
     },
     "execution_count": 28,
     "metadata": {},
     "output_type": "execute_result"
    }
   ],
   "source": [
    "filer = ' '.join(file)\n",
    "filer"
   ]
  },
  {
   "cell_type": "code",
   "execution_count": 177,
   "id": "c7e7dabc-aa26-4485-aee0-a1575fcb98fd",
   "metadata": {
    "tags": []
   },
   "outputs": [],
   "source": [
    "# saving it in a file\n",
    "with open('/home/ahmed/vimwiki/Projects/111/Vanilla/Regular Expressions/finalized.txt','w') as file:\n",
    "    file.write(filer)"
   ]
  },
  {
   "cell_type": "code",
   "execution_count": 8,
   "id": "f08eedf3-db49-4080-ad00-7ce032e5142b",
   "metadata": {},
   "outputs": [
    {
     "data": {
      "text/plain": [
       "'ehtpanle'"
      ]
     },
     "execution_count": 8,
     "metadata": {},
     "output_type": "execute_result"
    }
   ],
   "source": [
    "# scrambling the characters of words\n",
    "sentence = 'hello there, my name is alex'\n",
    "\n",
    "word = 'elephant'\n",
    "idx = numpy.random.permutation(len(word))\n",
    "''.join([word[i]  for i in idx])"
   ]
  },
  {
   "cell_type": "code",
   "execution_count": 21,
   "id": "aa194768-5bb0-459b-b15b-64eda629c084",
   "metadata": {
    "tags": []
   },
   "outputs": [
    {
     "data": {
      "text/plain": [
       "\"m'I wno nogig to *g** you tow ***m xpmalee orpsmleb fo mtpnu.iogc sneidoeomiiogptnec of csmteiar by .nhda iluyOsvob **t* si no het pmcetour tub I ceenoruag uyo to od ethes repobslm by *h** nad hyet'er ton **d* ni tMb.aal So I esugs th'sta **w* it nesam yb hd.na oS t'esl tge etasr.td **H* is a tow by tow ximrta adn oyu ludhos uaspe eht iovde og ohugrht *f** eht iesegulaenv nda hte cgevesitnoer fo t*** xrmati os teh awy we rttsa si yb tfgnisih the rtixam yb aLdmab os tantrcsuigb dbmlaa *f** het aagdniol elnmtese gsietnt het mentitaredn ueqal ot ***z dna **t* giprcdenoe ot mepcotu teh imttnaedern wihhc si **a* ldleac eht crcstacrehiati iqatunoe of ***t xit.amr oS ***t wsork otu ot eb hrete unims bmldaa mesti ixs nsuim dmlaab smuin **f* leausq ***z and ***t ipndeagxn eeths wto sermt mntplgiyuil out teshe wto tsmer nad *t** ngtcilocle eth l*** tsrem egisv us mabdla dsaquer minus *n** abmdal p*** rutofeen sauqle **z* adn ***t *t** rspneoixes *h** acn eb crafetdo **i* aadlmb nmsui enevs nda abmLad mnisu two dan own s'ti erttyp e*** to see **t* eth wto mslbdaa *t** **w* eovsl *t** oqtiuane t*** sevlo ***t aoeitq.un nI etroh odwrs eth tow eenvelsgaiu of ***t mxtair rea p*** 7 dan *p** w.ot oS ***t aws s*** eno we onfud hte uasnivgleee of *t** tmaxri nda now we go oghhtur orf **e* fo heets sueivelagen isfth hte xatrmi yb *t** toamun by t*** lveua dna *t** uiefrg out *w** is a orectv in het sdheitf icsrtema ***n saecp. OK so lt'se trtas w*** .2 oS **t* vsgie su teh irtxam 1 1 4 .4 dAn own ew **w* to *f** the iginssm ortcve h*** dna evy'ou ybrblpoa eeusdsg it darylae ti si 1 insum 1. ndA fo ruecso uyo **k* **t* **a* ccbaeeplta dowul be umsni 1 1 ro imnus qniuailrodl ***p .lrdquiniaol **T* otcevr lsiypm ieftsdenii a ecpsbsau orf eht *n** saepc of ***t ihdsfte trixam ni ayn oerctv ta'ths in ***t n*** aspec is yelceptrf **f* sa na cone.trievge woN t*** s*** het *b** hcoeci orf na rgieenetcvo wdoul be a rovcet ***t sah a *n** of 1 a dueiatgnm fo .1 dAn het ensdco b*** hoeicc udowl eb ergtien eauvls **t* era *e** to rnipeettr dna mcoptac to wtrie **l* .hits llA .hirgt oS t*** was rfo to.w Now ew og to eth edosnc eauseivleng ihcwh was snvee nda *t** igsve us ***t ritmxa unsmi 4 1 and 4 munsi 1. And **h* a orvetc ***t olucd *w** as an ocvnegreeit as a asbsi ofr teh n*** paces fo **t* shdftie xatmri si hte merusnb 1 .4 oS h*** is het gib prticeu ieoevwrv ew h*** ***t xtrmia dna *h** yuo ese eht vegeliuane nad ist gensnoprridco incegetorev and hte oreht luneeeagvi nda eht trheo osedgcnipornr g.nocieevrte oNw *y** elssurt **w* eb t.rrceco fI uoy h*** het eotrccr priiagn fo enevieglau nda any etipluml nya edcals noesriv of *t** et;ocvr ti edn'sot arttem if ouy ***c ***t aladbm eno adn **t* V noe s'hatt *f** eausbce hste're no trisnniic ireodg.nr W*** trmaets is ***t oyu *h** eht nrpaigi crocr.et All ihr.gt oS ***t saw het wot yb two eac.s Nwo 'etls go for a ehtre yb hreet saec. **T* noe is a itllte tib *m** ineahgnlgcl nad I ***h ot .timad So I itrsf ***c pu w*** htees bsnumre nad ***t I rdtates imngoputc het ntoesedi.cemgoniipo wNo I **h* to tmdai ***t I otg tcuks on neo of hte itvegonc.eesr I ouldtn'c etqui ueifgr ti tou no my .now So I ***u baMlat to uteompc ***t eeetirgvco.n oS ***w I anrgueoce uoy to od is *f** lla rthee ueilaesnevg by ***h nda I hiknt it *w** eb rypett oisobvu **w* oyu artst rgiokwn urohtgh ti wichh si hte dftifliuc ue.vigeaeln oS *t** w*** uyo oshudl do yb *h** is **f* tow fo hte cneetgievors *t** you nca teg iablslcya j*** by k*** of enibygella nda iamkgn *s** deadtceu uesessg. dAn ***t eht dirht veergecnoit uyo nca seu a ctupomre to selvo or ouy nac ***j **w* nda ahwct em ***c up ***w a tsooiu.nl lAl ih.rtg oS ignaa we tstar yb hfstgiin ***t iraxtm by sumin adalbm gstinet eth iemeatntdrn eqaul to z*** nad *t** opiercnged to emtcupo teh aetndmenrit of *t** tuqanoie and alrettehog **t* gvies us the atceacihtiscrr uitoaeqn fo *t** t.aimrx wNo t*** is a tltiel itb l.rnoge Is't a ltilte bit ciirtrek teh tmchtieira g*** a ittell tbi ihrya in lipturraca uyo edn pu w*** *t** nmisu lbadam bcedu t*** as w*** as a oulpce fo llptiemu rmset *w** dbLaam dna Laambd s.eqaudr oNw **o* uyo lcoctle lal of etshe l*** sterm 'uloly dne up *w** an exrisespno ***t okslo ***l .stih oS it ldhosu eb nsimu blaamd udebc **p* 01 msite dalbma ruqsead **p* elvnee mldbaa aqulse ***z owN eonhmtisg eiitrgnents ash npeehapd **h* lla of ehtse stmre *h** a adlamb cetahadt to **t* ihwhc amens t*** ew nac **t* a aamdlb out fo e*** of ehset sretm and rteweri **t* xesisrpeno sa sinmu abmlad siemt. All fo ***t sfutf dan mytidilemea ***t tlels su **t* aadlmb uqesla *z** is a outni.lso So ***w yuo tes *t** admalb ot eb ***z it tenods' auatlcly ttemra wat'sh nisdie ***t therptiaelcna mettestan tsaht' tmieyamdeli ngigo ot tse ot *m** t*** oueqaitn rtu.e **T* nasme t*** eno of the enuegiasvel of ***t artmxi is **z* dna Im' ognig to **h* na nirtee vdeoi **j* toabu *t** eohnonnmep a ttelli tbi letra in ***t e.tncsio utB yelalstiesn ***w an etnevciroge si an geleuenvia si or.ze tI snema **t* eht xtaimr si aslgnuri dan **t* oyu nca yullcaat see yb nioglko at ***t xitrma dna ouy ees ***t lmnuco 1 *p** onclmu 2 qeasul clumno 3 os eeehwnrv ouy h*** a nrusliag rtamxi at satle oen lsaguveneei vuale is ggino ot be eluaq to oz.er Adn ni ***f eht urnmeb of lnevaisegue **t* ear aeulq ot ***z lstel you tobau hte r*** of t*** tmr.xia *M** no **t* in hte tlrae .eidov Nwo *o** vueyo' negtot to ***t ***s ouy can ftreuhr tfaorc t*** eaotunqi dna yuo end up *w** teh restlu **t* dlamba elsuqa ***z balmad slqaue iumns 1 dan aLdbma saqelu .nevele oS you can lpbboyar suesg t*** ***t is gnogi ot be the trckiy I nca luvae ot emutocp eht nonsgpdroierc I nca ceorvt fo dna t*** is the oen t*** I ogt a teltli itb skutc .ihtw nAd so I ***u altabM sa a trh.ucc I hacetde a llteit .tib KO os tub se'tl go rhuhtog lal fo .steeh oS we tstar **w* *z** dna won *t** is ***k fo a ynfnu ngthi ubeasec ew rae nhtigisf teh ramitx by *z** hhwci ylaatcul easnm re'ew ont higcgnan teh mxarti at .all ndA ***t msnea t*** **t* axmitr A ayrldae ahs a ninolartvi- ***n asecp e*** touwthi igndo nay f.ignthis So *t** bremopl latyucla olsib ***d to nfiidng a orcevt in the **n* sepca ro a ibass orf the **n* apce.s ***E owttihu idong nya tgsnihif os aebsd no w*** I *j** **t* you buaot ohw do I ste up ***t itxmar ***t clnmuo one ***p mcuonl tow elqasu lmcuno rehet a bsisa ofr het *n** ecsap is 1 eno nsium 1. oS uoy can ryt rof *e** fo esthe **r* teh fistr noumcl **p* hte nscdoe mcouln nmuis the dirht umncol saqlue z*** lla hirg.t oS now te'sl ***m .no So nwo we fhist *t** itxram by lneeve nad *t** is acbiyalls rehew I got uskct and whtics to ma.btal oS it rntsu uot ***t necovegriet si nnitneee tofry noe nda yhttri six. oS fi uyo egrdifu uto t*** I anc eotcvr on *y** own wuothit sguni a uemtrpoc **t* *g** ofr you you are a etterb or at altes **m* teiapnt teaicamimtanh *t** I .am Adn t*** ew get ot hte rihtd uevlaneige hicwh saw iusnm en.o So nwo *t** sbeeocm ***p .one nAd *h** si **t* fdiesth taimxr nad **t* neo uoy hdluso be **a* to leosv on y*** .now In **f* sit' *e** reiesa **t* it kl.oos ndA if uoy **n* a h*** efobre I *s** eht rnwesa **t* eth *h** si **j* scirnedo *t** **t* hrtdi nlumoc is acltylau ttepry esulses fi ouy get idr fo *t** ithdr cnolmu ti emsoceb lelary **e* ot ***f eth geretcenivo in ***t hfetdis ertmcasi ***n pcs.ea oS ni f*** 'sti one nismu noe nda t*** *z** uoy **j* est teh ritdh lemntee to be zr.eo oS **t* aseld us to het igb eitucrp ivvewroe of hte dnoeoecgonsitpiime of ***t erhet yb trehe lrasginu imtxra *r** 2 itamrx ew ***h aunlgevesie 0 snimu 11 nda munis .1 nAd etseh rea the rpnosneoidcrg tg.eieeroscnv dAn ectnoi ***I winrtet *t** sa owr vrcotse nad **t* nproeat.ss oS shete rae stlli lomunc seotvcr we eynaelgrl aawlys nkhit buaot ietevgcosern as oculnm vtseocr nda uoy w*** nrael m*** about wyh *t** si het ***c ni teh ioevd on noilazadgnt,aoii iwhch is mcgnio up o.nos\""
      ]
     },
     "execution_count": 21,
     "metadata": {},
     "output_type": "execute_result"
    }
   ],
   "source": [
    "for wordd in range(len(file)):\n",
    "    thisword = file[wordd]\n",
    "    idx = numpy.random.permutation(len(thisword))\n",
    "    file[wordd] = ''.join([thisword[i] for i in idx])\n",
    "' '.join(file)"
   ]
  },
  {
   "cell_type": "code",
   "execution_count": 30,
   "id": "ef799d18-1a8c-48ab-9dae-7dcd478fbd1f",
   "metadata": {
    "tags": []
   },
   "outputs": [
    {
     "data": {
      "text/plain": [
       "\"I'm now gnoig to g*** you two m*** elpmaxe pmerbols of ctupgmoni. epsdtieominiogcoen of mceritas by hand. Ouiovbsly t*** is on the cuotepmr but II encuraoge you to do these permlbos by h*** and ther'ye not d*** in Maatbl. So II gsues tt'has w*** it mnaes by hdna. So le'ts get settrad. H*** is aa two by two mirtax and you suolhd pause the video go tgrouhh f*** the euilvegnaes and the evrnectgoeis of t*** mtirax so the way we srtat is by shifitng the mratix by Lbdmaa so scrbttinuag lbadma f*** the dianogal enemetls sittneg the daerienmntt euaql to z*** and t*** pecnrdeoig to cumotpe the dineamrentt wcihh is a*** called the cscrtareiiathc eoiutaqn of t*** mrtiax. So t*** wkros out to be there mnius ldbmaa tmies six miuns lmbdaa muins f*** elaqus z*** and t*** epinaxndg thsee two trems mpyliitunlg out tehse two trems and t*** coeicntllg the l*** tmres gevis us lbamda seqarud minus n*** lamdba p*** fuoerten eluqas z*** and t*** t*** epeosxirsn h*** can be fcoraetd i*** ldamba muins sveen and Lbdama munis two and now i'ts ptrtey e*** to see t*** the two lbadams t*** w*** solve t*** euoatiqn t*** svloe t*** etnuaoqi. In otehr wdros the two eanlgiveues of t*** mtraix are p*** 77 and p*** two. So t*** was s*** one we fnuod the eveungelais of t*** mratix and now we go thguorh for e*** of teshe eeagnluives sfhit the mraitx by t*** anmout by t*** vlaue and t*** firgue out w*** is aa voetcr in the sthefid mriactes n*** sapce. OK so lte's sratt w*** 2. So t*** gveis us the mtarix 11 11 44 4. And now we w*** to f*** the msiisng vocter h*** and yo'uve plabrboy gsesued it aldarey it is 11 munis 1. And of coruse you k*** t*** a*** aclbacetpe would be mnius 11 11 or miuns qaodiluirln p*** qurnlioaldi. T*** vecotr spilmy ieefintids aa ssapcbue for the n*** scpae of t*** sfteihd mtarix in any vtocer thta's in t*** n*** sacpe is pferetcly f*** as an egtnrvcieoe. Now t*** s*** the b*** chcoie for an egevtcioner wuold be aa vcoter t*** has aa n*** of 11 aa mutgidane of 1. And the senocd b*** cicohe wuold be integer vuleas t*** are e*** to ienrertpt and caopmct to witre l*** tsih. All rigth. So t*** was for two. Now we go to the snoecd elgevnaiues wichh was sveen and t*** gievs us t*** mriatx miuns 44 11 and 44 muins 1. And h*** aa veoctr t*** colud w*** as an etenevigocr as aa bsias for the n*** space of t*** shifetd mitrax is the nmberus 11 4. So h*** is the big putcrie ovieevrw we h*** t*** miatrx and h*** you see the evueniagle and its cenrpoionsrdg evcioeegtnr and the other ealuvneige and the other copesrirondng eergcvieont. Now y*** rlsutes w*** be ccetorr. If you h*** the cercort piiarng of evngauilee and any mlupitle any sclead vrseoin of t*** vorcet; it dsen'ot meattr if you c*** t*** lbdmaa one and t*** VV one ttah's f*** bsueace ter'ehs no inritisnc ogrriend. W*** matrtes is t*** you h*** the priniag creoctr. All rigth. So t*** was the two by two case. Now let's go for aa terhe by terhe cesa. T*** one is aa lltite bit m*** cglinaelnhg and II h*** to atidm. So II fsirt c*** up w*** teshe neurmbs and t*** II satertd ctiuponmg the eesgiooeicipmnotdn. Now II h*** to adimt t*** II got scutk on one of the eivcosneegrt. II cnlud'ot qtuie furige it out on my own. So II u*** Matlab to cuomtpe t*** egioeetcvrn. So w*** II ecagrunoe you to do is f*** all there elignaveeus by h*** and II think it w*** be pettry oivuobs w*** you strat worknig thorugh it wchih is the dficiuflt eaieugevln. So t*** w*** you shloud do by h*** is f*** two of the einrgecoevts t*** you can get bcaliasly j*** by k*** of elyenblaig and mankig s*** eedcautd gssseeu. And t*** the trhid eeotvgnecir you can use aa cpteoumr to svloe or you can j*** w*** and wtach me c*** up w*** aa siuootnl. All rghti. So aaign we strat by snhitifg t*** mtarix by miuns lmabda sitteng the dmnereanitt euaql to z*** and t*** pierdnecog to ctuompe the demranteint of t*** etaiuqon and aehgteotlr t*** gevis us the cshtctearaiirc eiqtauon of t*** miatrx. Now t*** is aa ltltie bit lrgeno. It's aa ltitle bit tirkicer the attrmehiic g*** aa llitte bit hiray in pitucrlaar you end up w*** t*** munis ladbma cubed t*** as w*** as aa cpuole of milputle tmers w*** Lmdbaa and Lmdbaa sueadqr. Now o*** you cloclet all of tshee l*** tmres yluo'l end up w*** an eorxsesipn t*** lokos l*** tihs. So it slhoud be muins lmbdaa cbeud p*** 10 teims lbmada squared p*** eeelvn lbadma eauqls z*** Now snmeiothg ieneisttnrg has hapepend h*** all of tehse trmes h*** aa ldabma atcahted to t*** wichh menas t*** we can t*** aa ldabma out of e*** of tsehe terms and rtriewe t*** epsoxseirn as muins labdma tsmei. All of t*** sutff and imdielmeaty t*** tells us t*** labdma eqlaus z*** is aa solutoin. So w*** you set t*** ldabma to be z*** it d'esnot alcaulty mtetar what's isdine t*** pnceeaatthirl santetmet tt'has immleteiday ginog to set to m*** t*** eouiaqtn ture. T*** manes t*** one of the eilvuneegas of t*** mirtax is z*** and I'm gniog to h*** an etnire video j*** abuot t*** pmheonnoen aa llitte bit laetr in t*** scotine. But easeltsnily w*** an ecigoneetvr is an euegaivnle is zroe. It mnaes t*** the mratix is sgnaulir and t*** you can altaculy see by lnoiokg at t*** mtarix and you see t*** cmluon 11 p*** cuolmn 22 eqauls colmun 33 so weevhner you h*** aa sagnluir mrtiax at lsaet one eenalgieuvs vluae is gnoig to be equal to zroe. And in f*** the nmbuer of euanivgeles t*** are eqaul to z*** tells you aobut the r*** of t*** maxrit. M*** on t*** in the leatr vieod. Now o*** yuv'oe gotten to t*** s*** you can frtuehr factor t*** eqaiuotn and you end up w*** the ruslet t*** lmbada elquas z*** lmbdaa euaqls muins 11 and Ldabma eluaqs enleve. So you can paorbbly gesus t*** t*** is giong to be the tkicry II can vuale to ctupmoe the cnsproinerdog II can vteocr of and t*** is the one t*** II got aa ltilte bit scutk whit. And so II u*** Maltab as aa ccrhut. II ctaheed aa llitte bti. OK so but le'ts go troghuh all of tsehe. So we srtat w*** z*** and now t*** is k*** of aa fnuny tinhg bscaeue we are shitfnig the matirx by z*** wichh alcualty mneas w'ree not caninhgg the mriatx at all. And t*** maens t*** t*** mraitx AA ardelay has aa n-naviitorl n*** sacpe e*** wiohutt donig any shgntfii. So t*** pebrolm altaulcy bilos d*** to fidnnig aa vtceor in the n*** space or aa bisas for the n*** seapc. E*** whiotut dnoig any sitinhfg so bsead on w*** II j*** t*** you auobt how do II set up t*** maitrx t*** clumon one p*** culmon two eauqls comlun terhe aa bsias for the n*** scpae is 11 one minus 1. So you can try for e*** of thsee r*** the fsirt clomun p*** the scenod cluomn munis the tihrd cumoln eqalus z*** all rigth. So now le'ts m*** on. So now we shift t*** mairtx by eleevn and t*** is blclisaay where II got stcuk and switch to mlatba. So it tnurs out t*** enoitvgeecr is netnieen ftory one and ttrhiy six. So if you fiuergd out t*** II can vocetr on y*** own woihtut using aa cuotempr t*** g*** for you you are aa betetr or at lsaet m*** paitent mhiiataactmen t*** II am. And t*** we get to the trhid eluneiavge wchih was munis oen. So now t*** bmeceos p*** one. And h*** is t*** sifehtd martix and t*** one you sulhod be a*** to svloe on y*** onw. In f*** it's e*** eesiar t*** it looks. And if you n*** aa h*** brfoee II s*** the aewsnr t*** the h*** is j*** cindoser t*** t*** trhid cmulon is atlculay pettry ueselss if you get rid of t*** thrid comuln it bmoeces really e*** to f*** the eioegcentvr in t*** shefitd matiecrs n*** speac. So in f*** it's one minus one and t*** z*** you j*** set the trihd enlmeet to be zoer. So t*** ldaes us to the big ptrcuie oeivverw of the epsmenodiiictegoon of t*** trehe by terhe suiglanr matirx r*** 22 matrix we h*** egulaienevs 00 miuns 11 and mnius 1. And teshe are the codrirsonenpg esgrinvetceo. And nitoce I*** wtiertn t*** as row vtecors and t*** tsorpnsea. So tehse are sltil cuomln vcoerts we gllrenaey alwyas tihnk about evegicroents as cloumn vtrceos and you w*** lrean m*** abuot why t*** is the c*** in the vdieo on dilaagnaziioton, whcih is coinmg up sono.\""
      ]
     },
     "execution_count": 30,
     "metadata": {},
     "output_type": "execute_result"
    }
   ],
   "source": [
    "for wordd in range(len(file)):\n",
    "    if len(file[wordd])<3:\n",
    "        continue\n",
    "    else:\n",
    "        thisword = file[wordd][1:-1]\n",
    "        idx = numpy.random.permutation(len(thisword))\n",
    "        file[wordd] = file[wordd][0]+''.join([thisword[i] for i in idx])+file[wordd][-1]\n",
    "' '.join(file)"
   ]
  },
  {
   "cell_type": "code",
   "execution_count": null,
   "id": "4c47dcc6-4ff2-4964-b490-232bec3e8fd4",
   "metadata": {},
   "outputs": [],
   "source": []
  }
 ],
 "metadata": {
  "kernelspec": {
   "display_name": "Python 3 (ipykernel)",
   "language": "python",
   "name": "python3"
  },
  "language_info": {
   "codemirror_mode": {
    "name": "ipython",
    "version": 3
   },
   "file_extension": ".py",
   "mimetype": "text/x-python",
   "name": "python",
   "nbconvert_exporter": "python",
   "pygments_lexer": "ipython3",
   "version": "3.10.10"
  }
 },
 "nbformat": 4,
 "nbformat_minor": 5
}
