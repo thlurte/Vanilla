{
 "cells": [
  {
   "cell_type": "code",
   "execution_count": 1,
   "id": "54b682d8-fb6e-4288-abed-984cf334b3ed",
   "metadata": {
    "execution": {
     "iopub.execute_input": "2023-04-07T12:00:53.207318Z",
     "iopub.status.busy": "2023-04-07T12:00:53.205965Z",
     "iopub.status.idle": "2023-04-07T12:00:53.234429Z",
     "shell.execute_reply": "2023-04-07T12:00:53.232765Z",
     "shell.execute_reply.started": "2023-04-07T12:00:53.207223Z"
    },
    "tags": []
   },
   "outputs": [
    {
     "data": {
      "text/plain": [
       "'20230407173053218542'"
      ]
     },
     "execution_count": 1,
     "metadata": {},
     "output_type": "execute_result"
    }
   ],
   "source": [
    "def indexer():\n",
    "    import re\n",
    "    import datetime\n",
    "    target = re.compile(r\"[^\\w\\s]|\\s\")\n",
    "    return target.sub('',str(datetime.datetime.now()))\n",
    "indexer()"
   ]
  },
  {
   "cell_type": "markdown",
   "id": "d0116b8f-e97d-4fc4-82f5-544a3e95d858",
   "metadata": {
    "execution": {
     "iopub.execute_input": "2023-04-07T12:01:27.705528Z",
     "iopub.status.busy": "2023-04-07T12:01:27.705148Z",
     "iopub.status.idle": "2023-04-07T12:01:27.714925Z",
     "shell.execute_reply": "2023-04-07T12:01:27.711190Z",
     "shell.execute_reply.started": "2023-04-07T12:01:27.705492Z"
    },
    "tags": []
   },
   "source": [
    "# Understanding backpropagation"
   ]
  },
  {
   "cell_type": "code",
   "execution_count": 1,
   "id": "88dd3382-5ebf-4131-9035-255574eceeb7",
   "metadata": {
    "execution": {
     "iopub.execute_input": "2023-04-07T13:11:30.365170Z",
     "iopub.status.busy": "2023-04-07T13:11:30.364542Z",
     "iopub.status.idle": "2023-04-07T13:11:31.787555Z",
     "shell.execute_reply": "2023-04-07T13:11:31.786519Z",
     "shell.execute_reply.started": "2023-04-07T13:11:30.365105Z"
    },
    "tags": []
   },
   "outputs": [],
   "source": [
    "import graphviz\n",
    "import numpy\n",
    "import math\n",
    "import sympy\n",
    "import matplotlib.pyplot"
   ]
  },
  {
   "cell_type": "code",
   "execution_count": 2,
   "id": "b7b67f71-3d92-4b47-a9be-eaba6d8af3f5",
   "metadata": {
    "execution": {
     "iopub.execute_input": "2023-04-07T13:11:31.789247Z",
     "iopub.status.busy": "2023-04-07T13:11:31.788772Z",
     "iopub.status.idle": "2023-04-07T13:11:31.796148Z",
     "shell.execute_reply": "2023-04-07T13:11:31.794109Z",
     "shell.execute_reply.started": "2023-04-07T13:11:31.789191Z"
    },
    "tags": []
   },
   "outputs": [],
   "source": [
    "def fx(x):\n",
    "    return 3*x**2 - 4*x +5\n",
    "\n",
    "def deriv(x):\n",
    "    return 6*x-4"
   ]
  },
  {
   "cell_type": "code",
   "execution_count": 3,
   "id": "15b5498d-2bfb-4af6-bd27-6c286db76df5",
   "metadata": {
    "execution": {
     "iopub.execute_input": "2023-04-07T13:11:31.799751Z",
     "iopub.status.busy": "2023-04-07T13:11:31.798439Z",
     "iopub.status.idle": "2023-04-07T13:11:32.409656Z",
     "shell.execute_reply": "2023-04-07T13:11:32.407975Z",
     "shell.execute_reply.started": "2023-04-07T13:11:31.799684Z"
    },
    "tags": []
   },
   "outputs": [
    {
     "data": {
      "image/png": "[encoded data removed]",
      "text/plain": [
       "<Figure size 640x480 with 1 Axes>"
      ]
     },
     "metadata": {},
     "output_type": "display_data"
    }
   ],
   "source": [
    "x = numpy.linspace(-5,5,50)\n",
    "matplotlib.pyplot.plot(x,fx(x))\n",
    "matplotlib.pyplot.xlabel('$x$')\n",
    "matplotlib.pyplot.ylabel('$y$')\n",
    "matplotlib.pyplot.show()"
   ]
  },
  {
   "cell_type": "code",
   "execution_count": 5,
   "id": "e1979234-81bf-4880-981f-d822e4482dab",
   "metadata": {
    "execution": {
     "iopub.execute_input": "2023-04-07T13:11:37.933778Z",
     "iopub.status.busy": "2023-04-07T13:11:37.933371Z",
     "iopub.status.idle": "2023-04-07T13:11:37.941934Z",
     "shell.execute_reply": "2023-04-07T13:11:37.940502Z",
     "shell.execute_reply.started": "2023-04-07T13:11:37.933741Z"
    },
    "tags": []
   },
   "outputs": [
    {
     "data": {
      "text/plain": [
       "20.014003000000002"
      ]
     },
     "execution_count": 5,
     "metadata": {},
     "output_type": "execute_result"
    }
   ],
   "source": [
    "h = 0.001\n",
    "x = 3.0\n",
    "fx(x+h)"
   ]
  },
  {
   "cell_type": "code",
   "execution_count": 7,
   "id": "0b9c2986-1f36-4616-a9c3-26afc3353e95",
   "metadata": {
    "execution": {
     "iopub.execute_input": "2023-04-07T13:11:46.133890Z",
     "iopub.status.busy": "2023-04-07T13:11:46.132186Z",
     "iopub.status.idle": "2023-04-07T13:11:46.147889Z",
     "shell.execute_reply": "2023-04-07T13:11:46.145423Z",
     "shell.execute_reply.started": "2023-04-07T13:11:46.133804Z"
    },
    "tags": []
   },
   "outputs": [
    {
     "data": {
      "text/plain": [
       "0.01400300000000243"
      ]
     },
     "execution_count": 7,
     "metadata": {},
     "output_type": "execute_result"
    }
   ],
   "source": [
    "fx(x+h)-fx(x)"
   ]
  },
  {
   "cell_type": "code",
   "execution_count": 8,
   "id": "a1761c70-4384-4015-b757-d315202b3bed",
   "metadata": {
    "execution": {
     "iopub.execute_input": "2023-04-07T13:11:51.379752Z",
     "iopub.status.busy": "2023-04-07T13:11:51.378906Z",
     "iopub.status.idle": "2023-04-07T13:11:51.396705Z",
     "shell.execute_reply": "2023-04-07T13:11:51.394178Z",
     "shell.execute_reply.started": "2023-04-07T13:11:51.379672Z"
    },
    "tags": []
   },
   "outputs": [
    {
     "data": {
      "text/plain": [
       "14.00300000000243"
      ]
     },
     "execution_count": 8,
     "metadata": {},
     "output_type": "execute_result"
    }
   ],
   "source": [
    "(fx(x+h)-fx(x))/h"
   ]
  },
  {
   "cell_type": "code",
   "execution_count": 9,
   "id": "2dc8e648-8d27-4cff-93de-2803dd2a06d7",
   "metadata": {
    "execution": {
     "iopub.execute_input": "2023-04-07T13:11:57.487265Z",
     "iopub.status.busy": "2023-04-07T13:11:57.484929Z",
     "iopub.status.idle": "2023-04-07T13:11:57.519828Z",
     "shell.execute_reply": "2023-04-07T13:11:57.516873Z",
     "shell.execute_reply.started": "2023-04-07T13:11:57.487123Z"
    },
    "tags": []
   },
   "outputs": [
    {
     "data": {
      "text/plain": [
       "-21.996999999998934"
      ]
     },
     "execution_count": 9,
     "metadata": {},
     "output_type": "execute_result"
    }
   ],
   "source": [
    "h = 0.001\n",
    "x = -3.0\n",
    "(fx(x+h)-fx(x))/h"
   ]
  },
  {
   "cell_type": "code",
   "execution_count": 10,
   "id": "94331c62-e459-4967-a66c-8274d0b4395e",
   "metadata": {
    "execution": {
     "iopub.execute_input": "2023-04-07T13:11:58.699995Z",
     "iopub.status.busy": "2023-04-07T13:11:58.699585Z",
     "iopub.status.idle": "2023-04-07T13:11:58.709511Z",
     "shell.execute_reply": "2023-04-07T13:11:58.707446Z",
     "shell.execute_reply.started": "2023-04-07T13:11:58.699959Z"
    },
    "tags": []
   },
   "outputs": [
    {
     "data": {
      "text/plain": [
       "-22.0"
      ]
     },
     "execution_count": 10,
     "metadata": {},
     "output_type": "execute_result"
    }
   ],
   "source": [
    "deriv(x)"
   ]
  },
  {
   "cell_type": "code",
   "execution_count": 11,
   "id": "65f3c443-ba0b-4141-8de9-a6dd82245972",
   "metadata": {
    "execution": {
     "iopub.execute_input": "2023-04-07T13:12:00.235506Z",
     "iopub.status.busy": "2023-04-07T13:12:00.235053Z",
     "iopub.status.idle": "2023-04-07T13:12:00.247971Z",
     "shell.execute_reply": "2023-04-07T13:12:00.246126Z",
     "shell.execute_reply.started": "2023-04-07T13:12:00.235469Z"
    },
    "tags": []
   },
   "outputs": [
    {
     "data": {
      "text/plain": [
       "4.0"
      ]
     },
     "execution_count": 11,
     "metadata": {},
     "output_type": "execute_result"
    }
   ],
   "source": [
    "# elaborate explanation\n",
    "# given that \n",
    "a = 2.0\n",
    "b = -3.0\n",
    "c = 10.0\n",
    "d = a*b+c\n",
    "d"
   ]
  },
  {
   "cell_type": "code",
   "execution_count": 12,
   "id": "d4eac039-e895-4e1c-8f92-8cb18a2fb482",
   "metadata": {
    "execution": {
     "iopub.execute_input": "2023-04-07T13:12:02.414937Z",
     "iopub.status.busy": "2023-04-07T13:12:02.413632Z",
     "iopub.status.idle": "2023-04-07T13:12:02.436530Z",
     "shell.execute_reply": "2023-04-07T13:12:02.433034Z",
     "shell.execute_reply.started": "2023-04-07T13:12:02.414805Z"
    },
    "tags": []
   },
   "outputs": [
    {
     "name": "stdout",
     "output_type": "stream",
     "text": [
      "d1 4.0\n",
      "d2 3.997\n"
     ]
    }
   ],
   "source": [
    "h = 0.001\n",
    "\n",
    "# inputs\n",
    "a = 2.0\n",
    "b = -3.0\n",
    "c = 10.0\n",
    "\n",
    "d1 = a*b+c\n",
    "a+=h\n",
    "d2 = a*b+c\n",
    "\n",
    "print('d1',d1)\n",
    "print('d2',d2)"
   ]
  },
  {
   "cell_type": "code",
   "execution_count": 13,
   "id": "311f66e7-5870-4f29-aa0b-01e48c9e7443",
   "metadata": {
    "execution": {
     "iopub.execute_input": "2023-04-07T13:12:05.549381Z",
     "iopub.status.busy": "2023-04-07T13:12:05.548491Z",
     "iopub.status.idle": "2023-04-07T13:12:05.558341Z",
     "shell.execute_reply": "2023-04-07T13:12:05.555840Z",
     "shell.execute_reply.started": "2023-04-07T13:12:05.549336Z"
    },
    "tags": []
   },
   "outputs": [
    {
     "name": "stdout",
     "output_type": "stream",
     "text": [
      "d1 4.0\n",
      "d2 3.99999999997\n",
      "slope -3.000000248221113\n"
     ]
    }
   ],
   "source": [
    "h = 0.00000000001\n",
    "\n",
    "# inputs\n",
    "a = 2.0\n",
    "b = -3.0\n",
    "c = 10.0\n",
    "\n",
    "d1 = a*b+c\n",
    "a+=h\n",
    "d2 = a*b+c\n",
    "\n",
    "print('d1',d1)\n",
    "print('d2',d2)\n",
    "print('slope',(d2-d1)/h)"
   ]
  },
  {
   "cell_type": "code",
   "execution_count": 56,
   "id": "ee8ea8e0-98c2-46f3-b12a-b8f4fb9d1a73",
   "metadata": {
    "execution": {
     "iopub.execute_input": "2023-04-07T13:25:17.145718Z",
     "iopub.status.busy": "2023-04-07T13:25:17.142538Z",
     "iopub.status.idle": "2023-04-07T13:25:17.161267Z",
     "shell.execute_reply": "2023-04-07T13:25:17.159574Z",
     "shell.execute_reply.started": "2023-04-07T13:25:17.145623Z"
    },
    "tags": []
   },
   "outputs": [],
   "source": [
    "class Value:\n",
    "    def __init__(self,data,_children=(),_op='',label=\"\"):\n",
    "        self.data = data\n",
    "        self.grad = 0.0\n",
    "        self._prev = set(_children)\n",
    "        self._op = _op\n",
    "        self.label = label\n",
    "        \n",
    "    def __repr__(self):\n",
    "        return f\"Value(data={self.data})\"\n",
    "    \n",
    "    def __add__(self,other):\n",
    "        return Value(self.data + other.data, (self,other),'+')\n",
    "    \n",
    "    def __mul__(self,other):\n",
    "        return Value(self.data * other.data, (self,other),'*')"
   ]
  },
  {
   "cell_type": "code",
   "execution_count": 57,
   "id": "c4c233ad-7a8f-41e2-9005-8c87c25bf3b9",
   "metadata": {
    "execution": {
     "iopub.execute_input": "2023-04-07T13:25:17.390706Z",
     "iopub.status.busy": "2023-04-07T13:25:17.386659Z",
     "iopub.status.idle": "2023-04-07T13:25:17.403136Z",
     "shell.execute_reply": "2023-04-07T13:25:17.401175Z",
     "shell.execute_reply.started": "2023-04-07T13:25:17.390630Z"
    },
    "tags": []
   },
   "outputs": [],
   "source": [
    "a = Value(2.0,label='a')\n",
    "b = Value(-3.0,label='b')\n",
    "c = Value(10.0,label='c')\n",
    "d = a*b ; d.label = 'd'\n",
    "e = d+c ; e.label = 'e'\n",
    "f = Value(-2.0,label='f')\n",
    "L = e*f; L.label = 'L'"
   ]
  },
  {
   "cell_type": "code",
   "execution_count": 58,
   "id": "052c86a6-c196-4ad5-b819-184cc2715a33",
   "metadata": {
    "execution": {
     "iopub.execute_input": "2023-04-07T13:25:17.612034Z",
     "iopub.status.busy": "2023-04-07T13:25:17.611137Z",
     "iopub.status.idle": "2023-04-07T13:25:17.633971Z",
     "shell.execute_reply": "2023-04-07T13:25:17.632166Z",
     "shell.execute_reply.started": "2023-04-07T13:25:17.611971Z"
    },
    "tags": []
   },
   "outputs": [
    {
     "data": {
      "text/plain": [
       "{Value(data=-3.0), Value(data=2.0)}"
      ]
     },
     "execution_count": 58,
     "metadata": {},
     "output_type": "execute_result"
    }
   ],
   "source": [
    "d._prev"
   ]
  },
  {
   "cell_type": "code",
   "execution_count": 59,
   "id": "69a566dd-7b15-4981-98e9-c3e273c320bc",
   "metadata": {
    "execution": {
     "iopub.execute_input": "2023-04-07T13:25:17.835174Z",
     "iopub.status.busy": "2023-04-07T13:25:17.833650Z",
     "iopub.status.idle": "2023-04-07T13:25:17.853799Z",
     "shell.execute_reply": "2023-04-07T13:25:17.852102Z",
     "shell.execute_reply.started": "2023-04-07T13:25:17.835103Z"
    },
    "tags": []
   },
   "outputs": [
    {
     "data": {
      "text/plain": [
       "'*'"
      ]
     },
     "execution_count": 59,
     "metadata": {},
     "output_type": "execute_result"
    }
   ],
   "source": [
    "d._op"
   ]
  },
  {
   "cell_type": "code",
   "execution_count": 60,
   "id": "3e83b1c7-710b-41d5-b0a8-176f0932b818",
   "metadata": {
    "execution": {
     "iopub.execute_input": "2023-04-07T13:25:18.071317Z",
     "iopub.status.busy": "2023-04-07T13:25:18.067692Z",
     "iopub.status.idle": "2023-04-07T13:25:18.122226Z",
     "shell.execute_reply": "2023-04-07T13:25:18.118985Z",
     "shell.execute_reply.started": "2023-04-07T13:25:18.070982Z"
    },
    "tags": []
   },
   "outputs": [],
   "source": [
    "from graphviz import Digraph\n",
    "\n",
    "def trace(root):\n",
    "    nodes, edges = set(),set()\n",
    "    def build(v):\n",
    "        if v not in nodes:\n",
    "            nodes.add(v)\n",
    "            for child in v._prev:\n",
    "                edges.add((child,v))\n",
    "                build(child)\n",
    "    build(root)\n",
    "    return nodes,edges\n",
    "\n",
    "def draw_dot(root):\n",
    "    dot = Digraph(format='svg',graph_attr={'rankdir':\"LR\"})\n",
    "    \n",
    "    nodes,edges = trace(root)\n",
    "    \n",
    "    for n in nodes:\n",
    "        uid = str(id(n))\n",
    "        \n",
    "        dot.node(name=uid,label=\"{%s | data %.4f | grad %.4f}\"%(n.label,n.data,n.grad),shape=\"record\")\n",
    "        if n._op:\n",
    "            dot.node(name=uid+n._op,label=n._op)\n",
    "            dot.edge(uid+n._op,uid)\n",
    "            \n",
    "    for n1,n2 in edges:\n",
    "        dot.edge(str(id(n1)),str(id(n2))+n2._op)\n",
    "            \n",
    "    return dot"
   ]
  },
  {
   "cell_type": "code",
   "execution_count": 61,
   "id": "6bcdd7f5-68d3-4ea6-8955-a42e84ff7a32",
   "metadata": {
    "execution": {
     "iopub.execute_input": "2023-04-07T13:25:18.295405Z",
     "iopub.status.busy": "2023-04-07T13:25:18.294594Z",
     "iopub.status.idle": "2023-04-07T13:25:19.461282Z",
     "shell.execute_reply": "2023-04-07T13:25:19.459527Z",
     "shell.execute_reply.started": "2023-04-07T13:25:18.295263Z"
    },
    "tags": []
   },
   "outputs": [
    {
     "data": {
      "image/svg+xml": [
       "<?xml version=\"1.0\" encoding=\"UTF-8\" standalone=\"no\"?>\n",
       "<!DOCTYPE svg PUBLIC \"-//W3C//DTD SVG 1.1//EN\"\n",
       " \"http://www.w3.org/Graphics/SVG/1.1/DTD/svg11.dtd\">\n",
       "<!-- Generated by graphviz version 7.1.0 (0)\n",
       " -->\n",
       "<!-- Pages: 1 -->\n",
       "<svg width=\"1148pt\" height=\"156pt\"\n",
       " viewBox=\"0.00 0.00 1148.00 156.00\" xmlns=\"http://www.w3.org/2000/svg\" xmlns:xlink=\"http://www.w3.org/1999/xlink\">\n",
       "<g id=\"graph0\" class=\"graph\" transform=\"scale(1 1) rotate(0) translate(4 152)\">\n",
       "<polygon fill=\"white\" stroke=\"none\" points=\"-4,4 -4,-152 1144,-152 1144,4 -4,4\"/>\n",
       "<!-- 139804138300432 -->\n",
       "<g id=\"node1\" class=\"node\">\n",
       "<title>139804138300432</title>\n",
       "<polygon fill=\"none\" stroke=\"black\" points=\"2.5,-111.5 2.5,-147.5 187.5,-147.5 187.5,-111.5 2.5,-111.5\"/>\n",
       "<text text-anchor=\"middle\" x=\"14\" y=\"-125.8\" font-family=\"Times,serif\" font-size=\"14.00\">a</text>\n",
       "<polyline fill=\"none\" stroke=\"black\" points=\"25.5,-111.5 25.5,-147.5\"/>\n",
       "<text text-anchor=\"middle\" x=\"65.5\" y=\"-125.8\" font-family=\"Times,serif\" font-size=\"14.00\">data 2.0000</text>\n",
       "<polyline fill=\"none\" stroke=\"black\" points=\"105.5,-111.5 105.5,-147.5\"/>\n",
       "<text text-anchor=\"middle\" x=\"146.5\" y=\"-125.8\" font-family=\"Times,serif\" font-size=\"14.00\">grad 0.0000</text>\n",
       "</g>\n",
       "<!-- 139804138300672* -->\n",
       "<g id=\"node9\" class=\"node\">\n",
       "<title>139804138300672*</title>\n",
       "<ellipse fill=\"none\" stroke=\"black\" cx=\"253\" cy=\"-101.5\" rx=\"27\" ry=\"18\"/>\n",
       "<text text-anchor=\"middle\" x=\"253\" y=\"-97.8\" font-family=\"Times,serif\" font-size=\"14.00\">*</text>\n",
       "</g>\n",
       "<!-- 139804138300432&#45;&gt;139804138300672* -->\n",
       "<g id=\"edge5\" class=\"edge\">\n",
       "<title>139804138300432&#45;&gt;139804138300672*</title>\n",
       "<path fill=\"none\" stroke=\"black\" d=\"M187.2,-113.13C197.1,-111.35 206.71,-109.63 215.36,-108.08\"/>\n",
       "<polygon fill=\"black\" stroke=\"black\" points=\"215.79,-111.55 225.02,-106.34 214.56,-104.66 215.79,-111.55\"/>\n",
       "</g>\n",
       "<!-- 139804138304080 -->\n",
       "<g id=\"node2\" class=\"node\">\n",
       "<title>139804138304080</title>\n",
       "<polygon fill=\"none\" stroke=\"black\" points=\"635.5,-55.5 635.5,-91.5 820.5,-91.5 820.5,-55.5 635.5,-55.5\"/>\n",
       "<text text-anchor=\"middle\" x=\"647\" y=\"-69.8\" font-family=\"Times,serif\" font-size=\"14.00\">e</text>\n",
       "<polyline fill=\"none\" stroke=\"black\" points=\"658.5,-55.5 658.5,-91.5\"/>\n",
       "<text text-anchor=\"middle\" x=\"698.5\" y=\"-69.8\" font-family=\"Times,serif\" font-size=\"14.00\">data 4.0000</text>\n",
       "<polyline fill=\"none\" stroke=\"black\" points=\"738.5,-55.5 738.5,-91.5\"/>\n",
       "<text text-anchor=\"middle\" x=\"779.5\" y=\"-69.8\" font-family=\"Times,serif\" font-size=\"14.00\">grad 0.0000</text>\n",
       "</g>\n",
       "<!-- 139804138300624* -->\n",
       "<g id=\"node7\" class=\"node\">\n",
       "<title>139804138300624*</title>\n",
       "<ellipse fill=\"none\" stroke=\"black\" cx=\"885\" cy=\"-45.5\" rx=\"27\" ry=\"18\"/>\n",
       "<text text-anchor=\"middle\" x=\"885\" y=\"-41.8\" font-family=\"Times,serif\" font-size=\"14.00\">*</text>\n",
       "</g>\n",
       "<!-- 139804138304080&#45;&gt;139804138300624* -->\n",
       "<g id=\"edge4\" class=\"edge\">\n",
       "<title>139804138304080&#45;&gt;139804138300624*</title>\n",
       "<path fill=\"none\" stroke=\"black\" d=\"M820.06,-57.05C829.65,-55.32 838.94,-53.64 847.35,-52.12\"/>\n",
       "<polygon fill=\"black\" stroke=\"black\" points=\"847.86,-55.59 857.08,-50.36 846.61,-48.7 847.86,-55.59\"/>\n",
       "</g>\n",
       "<!-- 139804138304080+ -->\n",
       "<g id=\"node3\" class=\"node\">\n",
       "<title>139804138304080+</title>\n",
       "<ellipse fill=\"none\" stroke=\"black\" cx=\"571\" cy=\"-73.5\" rx=\"27\" ry=\"18\"/>\n",
       "<text text-anchor=\"middle\" x=\"571\" y=\"-69.8\" font-family=\"Times,serif\" font-size=\"14.00\">+</text>\n",
       "</g>\n",
       "<!-- 139804138304080+&#45;&gt;139804138304080 -->\n",
       "<g id=\"edge1\" class=\"edge\">\n",
       "<title>139804138304080+&#45;&gt;139804138304080</title>\n",
       "<path fill=\"none\" stroke=\"black\" d=\"M598.29,-73.5C605.99,-73.5 614.91,-73.5 624.39,-73.5\"/>\n",
       "<polygon fill=\"black\" stroke=\"black\" points=\"624.22,-77 634.22,-73.5 624.22,-70 624.22,-77\"/>\n",
       "</g>\n",
       "<!-- 139804138303600 -->\n",
       "<g id=\"node4\" class=\"node\">\n",
       "<title>139804138303600</title>\n",
       "<polygon fill=\"none\" stroke=\"black\" points=\"634,-0.5 634,-36.5 822,-36.5 822,-0.5 634,-0.5\"/>\n",
       "<text text-anchor=\"middle\" x=\"644.5\" y=\"-14.8\" font-family=\"Times,serif\" font-size=\"14.00\">f</text>\n",
       "<polyline fill=\"none\" stroke=\"black\" points=\"655,-0.5 655,-36.5\"/>\n",
       "<text text-anchor=\"middle\" x=\"697.5\" y=\"-14.8\" font-family=\"Times,serif\" font-size=\"14.00\">data &#45;2.0000</text>\n",
       "<polyline fill=\"none\" stroke=\"black\" points=\"740,-0.5 740,-36.5\"/>\n",
       "<text text-anchor=\"middle\" x=\"781\" y=\"-14.8\" font-family=\"Times,serif\" font-size=\"14.00\">grad 0.0000</text>\n",
       "</g>\n",
       "<!-- 139804138303600&#45;&gt;139804138300624* -->\n",
       "<g id=\"edge7\" class=\"edge\">\n",
       "<title>139804138303600&#45;&gt;139804138300624*</title>\n",
       "<path fill=\"none\" stroke=\"black\" d=\"M821.85,-34.67C830.75,-36.22 839.38,-37.73 847.22,-39.09\"/>\n",
       "<polygon fill=\"black\" stroke=\"black\" points=\"846.53,-42.53 856.98,-40.79 847.73,-35.63 846.53,-42.53\"/>\n",
       "</g>\n",
       "<!-- 139804138304128 -->\n",
       "<g id=\"node5\" class=\"node\">\n",
       "<title>139804138304128</title>\n",
       "<polygon fill=\"none\" stroke=\"black\" points=\"0,-56.5 0,-92.5 190,-92.5 190,-56.5 0,-56.5\"/>\n",
       "<text text-anchor=\"middle\" x=\"11.5\" y=\"-70.8\" font-family=\"Times,serif\" font-size=\"14.00\">b</text>\n",
       "<polyline fill=\"none\" stroke=\"black\" points=\"23,-56.5 23,-92.5\"/>\n",
       "<text text-anchor=\"middle\" x=\"65.5\" y=\"-70.8\" font-family=\"Times,serif\" font-size=\"14.00\">data &#45;3.0000</text>\n",
       "<polyline fill=\"none\" stroke=\"black\" points=\"108,-56.5 108,-92.5\"/>\n",
       "<text text-anchor=\"middle\" x=\"149\" y=\"-70.8\" font-family=\"Times,serif\" font-size=\"14.00\">grad 0.0000</text>\n",
       "</g>\n",
       "<!-- 139804138304128&#45;&gt;139804138300672* -->\n",
       "<g id=\"edge6\" class=\"edge\">\n",
       "<title>139804138304128&#45;&gt;139804138300672*</title>\n",
       "<path fill=\"none\" stroke=\"black\" d=\"M189.9,-90.75C198.81,-92.29 207.43,-93.79 215.28,-95.14\"/>\n",
       "<polygon fill=\"black\" stroke=\"black\" points=\"214.57,-98.57 225.02,-96.83 215.76,-91.68 214.57,-98.57\"/>\n",
       "</g>\n",
       "<!-- 139804138300624 -->\n",
       "<g id=\"node6\" class=\"node\">\n",
       "<title>139804138300624</title>\n",
       "<polygon fill=\"none\" stroke=\"black\" points=\"948,-27.5 948,-63.5 1140,-63.5 1140,-27.5 948,-27.5\"/>\n",
       "<text text-anchor=\"middle\" x=\"960.5\" y=\"-41.8\" font-family=\"Times,serif\" font-size=\"14.00\">L</text>\n",
       "<polyline fill=\"none\" stroke=\"black\" points=\"973,-27.5 973,-63.5\"/>\n",
       "<text text-anchor=\"middle\" x=\"1015.5\" y=\"-41.8\" font-family=\"Times,serif\" font-size=\"14.00\">data &#45;8.0000</text>\n",
       "<polyline fill=\"none\" stroke=\"black\" points=\"1058,-27.5 1058,-63.5\"/>\n",
       "<text text-anchor=\"middle\" x=\"1099\" y=\"-41.8\" font-family=\"Times,serif\" font-size=\"14.00\">grad 0.0000</text>\n",
       "</g>\n",
       "<!-- 139804138300624*&#45;&gt;139804138300624 -->\n",
       "<g id=\"edge2\" class=\"edge\">\n",
       "<title>139804138300624*&#45;&gt;139804138300624</title>\n",
       "<path fill=\"none\" stroke=\"black\" d=\"M912.28,-45.5C919.52,-45.5 927.85,-45.5 936.72,-45.5\"/>\n",
       "<polygon fill=\"black\" stroke=\"black\" points=\"936.69,-49 946.69,-45.5 936.69,-42 936.69,-49\"/>\n",
       "</g>\n",
       "<!-- 139804138300672 -->\n",
       "<g id=\"node8\" class=\"node\">\n",
       "<title>139804138300672</title>\n",
       "<polygon fill=\"none\" stroke=\"black\" points=\"317,-83.5 317,-119.5 507,-119.5 507,-83.5 317,-83.5\"/>\n",
       "<text text-anchor=\"middle\" x=\"328.5\" y=\"-97.8\" font-family=\"Times,serif\" font-size=\"14.00\">d</text>\n",
       "<polyline fill=\"none\" stroke=\"black\" points=\"340,-83.5 340,-119.5\"/>\n",
       "<text text-anchor=\"middle\" x=\"382.5\" y=\"-97.8\" font-family=\"Times,serif\" font-size=\"14.00\">data &#45;6.0000</text>\n",
       "<polyline fill=\"none\" stroke=\"black\" points=\"425,-83.5 425,-119.5\"/>\n",
       "<text text-anchor=\"middle\" x=\"466\" y=\"-97.8\" font-family=\"Times,serif\" font-size=\"14.00\">grad 0.0000</text>\n",
       "</g>\n",
       "<!-- 139804138300672&#45;&gt;139804138304080+ -->\n",
       "<g id=\"edge9\" class=\"edge\">\n",
       "<title>139804138300672&#45;&gt;139804138304080+</title>\n",
       "<path fill=\"none\" stroke=\"black\" d=\"M506.59,-84.81C516.06,-83.12 525.22,-81.49 533.49,-80.01\"/>\n",
       "<polygon fill=\"black\" stroke=\"black\" points=\"533.82,-83.51 543.05,-78.31 532.59,-76.62 533.82,-83.51\"/>\n",
       "</g>\n",
       "<!-- 139804138300672*&#45;&gt;139804138300672 -->\n",
       "<g id=\"edge3\" class=\"edge\">\n",
       "<title>139804138300672*&#45;&gt;139804138300672</title>\n",
       "<path fill=\"none\" stroke=\"black\" d=\"M280.28,-101.5C287.79,-101.5 296.46,-101.5 305.7,-101.5\"/>\n",
       "<polygon fill=\"black\" stroke=\"black\" points=\"305.7,-105 315.7,-101.5 305.7,-98 305.7,-105\"/>\n",
       "</g>\n",
       "<!-- 139804138299712 -->\n",
       "<g id=\"node10\" class=\"node\">\n",
       "<title>139804138299712</title>\n",
       "<polygon fill=\"none\" stroke=\"black\" points=\"316,-28.5 316,-64.5 508,-64.5 508,-28.5 316,-28.5\"/>\n",
       "<text text-anchor=\"middle\" x=\"327.5\" y=\"-42.8\" font-family=\"Times,serif\" font-size=\"14.00\">c</text>\n",
       "<polyline fill=\"none\" stroke=\"black\" points=\"339,-28.5 339,-64.5\"/>\n",
       "<text text-anchor=\"middle\" x=\"382.5\" y=\"-42.8\" font-family=\"Times,serif\" font-size=\"14.00\">data 10.0000</text>\n",
       "<polyline fill=\"none\" stroke=\"black\" points=\"426,-28.5 426,-64.5\"/>\n",
       "<text text-anchor=\"middle\" x=\"467\" y=\"-42.8\" font-family=\"Times,serif\" font-size=\"14.00\">grad 0.0000</text>\n",
       "</g>\n",
       "<!-- 139804138299712&#45;&gt;139804138304080+ -->\n",
       "<g id=\"edge8\" class=\"edge\">\n",
       "<title>139804138299712&#45;&gt;139804138304080+</title>\n",
       "<path fill=\"none\" stroke=\"black\" d=\"M507.95,-62.83C516.87,-64.36 525.49,-65.85 533.33,-67.19\"/>\n",
       "<polygon fill=\"black\" stroke=\"black\" points=\"532.62,-70.62 543.07,-68.87 533.8,-63.72 532.62,-70.62\"/>\n",
       "</g>\n",
       "</g>\n",
       "</svg>\n"
      ],
      "text/plain": [
       "<graphviz.graphs.Digraph at 0x7f26b01f9660>"
      ]
     },
     "execution_count": 61,
     "metadata": {},
     "output_type": "execute_result"
    }
   ],
   "source": [
    "draw_dot(L)"
   ]
  },
  {
   "cell_type": "code",
   "execution_count": 70,
   "id": "f1de259b-f2b5-4b41-a529-67cfa2a826db",
   "metadata": {
    "execution": {
     "iopub.execute_input": "2023-04-07T14:00:09.333517Z",
     "iopub.status.busy": "2023-04-07T14:00:09.332802Z",
     "iopub.status.idle": "2023-04-07T14:00:09.352048Z",
     "shell.execute_reply": "2023-04-07T14:00:09.349961Z",
     "shell.execute_reply.started": "2023-04-07T14:00:09.333476Z"
    },
    "tags": []
   },
   "outputs": [
    {
     "data": {
      "text/plain": [
       "20000.999999999996"
      ]
     },
     "execution_count": 70,
     "metadata": {},
     "output_type": "execute_result"
    }
   ],
   "source": [
    "def lol():\n",
    "    h = 0.001\n",
    "    \n",
    "    a = Value(2.0,label='a')\n",
    "    b = Value(-3.0,label='b')\n",
    "    c = Value(10.0,label='c')\n",
    "    e = a*b ; e.label = 'e'\n",
    "    d = e+c ; d.label = 'd'\n",
    "    f = Value(-2.0,label='f')\n",
    "    L = d*f; L.label = 'L'\n",
    "    L1 = L.data\n",
    "    \n",
    "    a = Value(2.0,label='a')\n",
    "    b = Value(-3.0,label='b')\n",
    "    c = Value(10.0,label='c')\n",
    "    e = a*b ; e.label = 'e'\n",
    "    d = e+c ; d.label = 'd'\n",
    "    f = Value(-2.0,label='f')\n",
    "    L = e*f; L.label = 'L'\n",
    "    L2 = L.data + h\n",
    "    \n",
    "    return (L2-L1)/h\n",
    "\n",
    "lol()"
   ]
  },
  {
   "cell_type": "code",
   "execution_count": 66,
   "id": "c563f398-d268-4fa2-95b7-5fe2485665d1",
   "metadata": {
    "execution": {
     "iopub.execute_input": "2023-04-07T13:53:58.241732Z",
     "iopub.status.busy": "2023-04-07T13:53:58.240554Z",
     "iopub.status.idle": "2023-04-07T13:53:58.289500Z",
     "shell.execute_reply": "2023-04-07T13:53:58.287854Z",
     "shell.execute_reply.started": "2023-04-07T13:53:58.241667Z"
    },
    "tags": []
   },
   "outputs": [
    {
     "data": {
      "image/svg+xml": [
       "<?xml version=\"1.0\" encoding=\"UTF-8\" standalone=\"no\"?>\n",
       "<!DOCTYPE svg PUBLIC \"-//W3C//DTD SVG 1.1//EN\"\n",
       " \"http://www.w3.org/Graphics/SVG/1.1/DTD/svg11.dtd\">\n",
       "<!-- Generated by graphviz version 7.1.0 (0)\n",
       " -->\n",
       "<!-- Pages: 1 -->\n",
       "<svg width=\"1148pt\" height=\"156pt\"\n",
       " viewBox=\"0.00 0.00 1148.00 156.00\" xmlns=\"http://www.w3.org/2000/svg\" xmlns:xlink=\"http://www.w3.org/1999/xlink\">\n",
       "<g id=\"graph0\" class=\"graph\" transform=\"scale(1 1) rotate(0) translate(4 152)\">\n",
       "<polygon fill=\"white\" stroke=\"none\" points=\"-4,4 -4,-152 1144,-152 1144,4 -4,4\"/>\n",
       "<!-- 139804138300432 -->\n",
       "<g id=\"node1\" class=\"node\">\n",
       "<title>139804138300432</title>\n",
       "<polygon fill=\"none\" stroke=\"black\" points=\"2.5,-111.5 2.5,-147.5 187.5,-147.5 187.5,-111.5 2.5,-111.5\"/>\n",
       "<text text-anchor=\"middle\" x=\"14\" y=\"-125.8\" font-family=\"Times,serif\" font-size=\"14.00\">a</text>\n",
       "<polyline fill=\"none\" stroke=\"black\" points=\"25.5,-111.5 25.5,-147.5\"/>\n",
       "<text text-anchor=\"middle\" x=\"65.5\" y=\"-125.8\" font-family=\"Times,serif\" font-size=\"14.00\">data 2.0000</text>\n",
       "<polyline fill=\"none\" stroke=\"black\" points=\"105.5,-111.5 105.5,-147.5\"/>\n",
       "<text text-anchor=\"middle\" x=\"146.5\" y=\"-125.8\" font-family=\"Times,serif\" font-size=\"14.00\">grad 0.0000</text>\n",
       "</g>\n",
       "<!-- 139804138300672* -->\n",
       "<g id=\"node9\" class=\"node\">\n",
       "<title>139804138300672*</title>\n",
       "<ellipse fill=\"none\" stroke=\"black\" cx=\"253\" cy=\"-101.5\" rx=\"27\" ry=\"18\"/>\n",
       "<text text-anchor=\"middle\" x=\"253\" y=\"-97.8\" font-family=\"Times,serif\" font-size=\"14.00\">*</text>\n",
       "</g>\n",
       "<!-- 139804138300432&#45;&gt;139804138300672* -->\n",
       "<g id=\"edge5\" class=\"edge\">\n",
       "<title>139804138300432&#45;&gt;139804138300672*</title>\n",
       "<path fill=\"none\" stroke=\"black\" d=\"M187.2,-113.13C197.1,-111.35 206.71,-109.63 215.36,-108.08\"/>\n",
       "<polygon fill=\"black\" stroke=\"black\" points=\"215.79,-111.55 225.02,-106.34 214.56,-104.66 215.79,-111.55\"/>\n",
       "</g>\n",
       "<!-- 139804138304080 -->\n",
       "<g id=\"node2\" class=\"node\">\n",
       "<title>139804138304080</title>\n",
       "<polygon fill=\"none\" stroke=\"black\" points=\"635.5,-55.5 635.5,-91.5 820.5,-91.5 820.5,-55.5 635.5,-55.5\"/>\n",
       "<text text-anchor=\"middle\" x=\"647\" y=\"-69.8\" font-family=\"Times,serif\" font-size=\"14.00\">e</text>\n",
       "<polyline fill=\"none\" stroke=\"black\" points=\"658.5,-55.5 658.5,-91.5\"/>\n",
       "<text text-anchor=\"middle\" x=\"698.5\" y=\"-69.8\" font-family=\"Times,serif\" font-size=\"14.00\">data 4.0000</text>\n",
       "<polyline fill=\"none\" stroke=\"black\" points=\"738.5,-55.5 738.5,-91.5\"/>\n",
       "<text text-anchor=\"middle\" x=\"779.5\" y=\"-69.8\" font-family=\"Times,serif\" font-size=\"14.00\">grad 0.0000</text>\n",
       "</g>\n",
       "<!-- 139804138300624* -->\n",
       "<g id=\"node7\" class=\"node\">\n",
       "<title>139804138300624*</title>\n",
       "<ellipse fill=\"none\" stroke=\"black\" cx=\"885\" cy=\"-45.5\" rx=\"27\" ry=\"18\"/>\n",
       "<text text-anchor=\"middle\" x=\"885\" y=\"-41.8\" font-family=\"Times,serif\" font-size=\"14.00\">*</text>\n",
       "</g>\n",
       "<!-- 139804138304080&#45;&gt;139804138300624* -->\n",
       "<g id=\"edge4\" class=\"edge\">\n",
       "<title>139804138304080&#45;&gt;139804138300624*</title>\n",
       "<path fill=\"none\" stroke=\"black\" d=\"M820.06,-57.05C829.65,-55.32 838.94,-53.64 847.35,-52.12\"/>\n",
       "<polygon fill=\"black\" stroke=\"black\" points=\"847.86,-55.59 857.08,-50.36 846.61,-48.7 847.86,-55.59\"/>\n",
       "</g>\n",
       "<!-- 139804138304080+ -->\n",
       "<g id=\"node3\" class=\"node\">\n",
       "<title>139804138304080+</title>\n",
       "<ellipse fill=\"none\" stroke=\"black\" cx=\"571\" cy=\"-73.5\" rx=\"27\" ry=\"18\"/>\n",
       "<text text-anchor=\"middle\" x=\"571\" y=\"-69.8\" font-family=\"Times,serif\" font-size=\"14.00\">+</text>\n",
       "</g>\n",
       "<!-- 139804138304080+&#45;&gt;139804138304080 -->\n",
       "<g id=\"edge1\" class=\"edge\">\n",
       "<title>139804138304080+&#45;&gt;139804138304080</title>\n",
       "<path fill=\"none\" stroke=\"black\" d=\"M598.29,-73.5C605.99,-73.5 614.91,-73.5 624.39,-73.5\"/>\n",
       "<polygon fill=\"black\" stroke=\"black\" points=\"624.22,-77 634.22,-73.5 624.22,-70 624.22,-77\"/>\n",
       "</g>\n",
       "<!-- 139804138303600 -->\n",
       "<g id=\"node4\" class=\"node\">\n",
       "<title>139804138303600</title>\n",
       "<polygon fill=\"none\" stroke=\"black\" points=\"634,-0.5 634,-36.5 822,-36.5 822,-0.5 634,-0.5\"/>\n",
       "<text text-anchor=\"middle\" x=\"644.5\" y=\"-14.8\" font-family=\"Times,serif\" font-size=\"14.00\">f</text>\n",
       "<polyline fill=\"none\" stroke=\"black\" points=\"655,-0.5 655,-36.5\"/>\n",
       "<text text-anchor=\"middle\" x=\"697.5\" y=\"-14.8\" font-family=\"Times,serif\" font-size=\"14.00\">data &#45;2.0000</text>\n",
       "<polyline fill=\"none\" stroke=\"black\" points=\"740,-0.5 740,-36.5\"/>\n",
       "<text text-anchor=\"middle\" x=\"781\" y=\"-14.8\" font-family=\"Times,serif\" font-size=\"14.00\">grad 0.0000</text>\n",
       "</g>\n",
       "<!-- 139804138303600&#45;&gt;139804138300624* -->\n",
       "<g id=\"edge7\" class=\"edge\">\n",
       "<title>139804138303600&#45;&gt;139804138300624*</title>\n",
       "<path fill=\"none\" stroke=\"black\" d=\"M821.85,-34.67C830.75,-36.22 839.38,-37.73 847.22,-39.09\"/>\n",
       "<polygon fill=\"black\" stroke=\"black\" points=\"846.53,-42.53 856.98,-40.79 847.73,-35.63 846.53,-42.53\"/>\n",
       "</g>\n",
       "<!-- 139804138304128 -->\n",
       "<g id=\"node5\" class=\"node\">\n",
       "<title>139804138304128</title>\n",
       "<polygon fill=\"none\" stroke=\"black\" points=\"0,-56.5 0,-92.5 190,-92.5 190,-56.5 0,-56.5\"/>\n",
       "<text text-anchor=\"middle\" x=\"11.5\" y=\"-70.8\" font-family=\"Times,serif\" font-size=\"14.00\">b</text>\n",
       "<polyline fill=\"none\" stroke=\"black\" points=\"23,-56.5 23,-92.5\"/>\n",
       "<text text-anchor=\"middle\" x=\"65.5\" y=\"-70.8\" font-family=\"Times,serif\" font-size=\"14.00\">data &#45;3.0000</text>\n",
       "<polyline fill=\"none\" stroke=\"black\" points=\"108,-56.5 108,-92.5\"/>\n",
       "<text text-anchor=\"middle\" x=\"149\" y=\"-70.8\" font-family=\"Times,serif\" font-size=\"14.00\">grad 0.0000</text>\n",
       "</g>\n",
       "<!-- 139804138304128&#45;&gt;139804138300672* -->\n",
       "<g id=\"edge6\" class=\"edge\">\n",
       "<title>139804138304128&#45;&gt;139804138300672*</title>\n",
       "<path fill=\"none\" stroke=\"black\" d=\"M189.9,-90.75C198.81,-92.29 207.43,-93.79 215.28,-95.14\"/>\n",
       "<polygon fill=\"black\" stroke=\"black\" points=\"214.57,-98.57 225.02,-96.83 215.76,-91.68 214.57,-98.57\"/>\n",
       "</g>\n",
       "<!-- 139804138300624 -->\n",
       "<g id=\"node6\" class=\"node\">\n",
       "<title>139804138300624</title>\n",
       "<polygon fill=\"none\" stroke=\"black\" points=\"948,-27.5 948,-63.5 1140,-63.5 1140,-27.5 948,-27.5\"/>\n",
       "<text text-anchor=\"middle\" x=\"960.5\" y=\"-41.8\" font-family=\"Times,serif\" font-size=\"14.00\">L</text>\n",
       "<polyline fill=\"none\" stroke=\"black\" points=\"973,-27.5 973,-63.5\"/>\n",
       "<text text-anchor=\"middle\" x=\"1015.5\" y=\"-41.8\" font-family=\"Times,serif\" font-size=\"14.00\">data &#45;8.0000</text>\n",
       "<polyline fill=\"none\" stroke=\"black\" points=\"1058,-27.5 1058,-63.5\"/>\n",
       "<text text-anchor=\"middle\" x=\"1099\" y=\"-41.8\" font-family=\"Times,serif\" font-size=\"14.00\">grad 0.0000</text>\n",
       "</g>\n",
       "<!-- 139804138300624*&#45;&gt;139804138300624 -->\n",
       "<g id=\"edge2\" class=\"edge\">\n",
       "<title>139804138300624*&#45;&gt;139804138300624</title>\n",
       "<path fill=\"none\" stroke=\"black\" d=\"M912.28,-45.5C919.52,-45.5 927.85,-45.5 936.72,-45.5\"/>\n",
       "<polygon fill=\"black\" stroke=\"black\" points=\"936.69,-49 946.69,-45.5 936.69,-42 936.69,-49\"/>\n",
       "</g>\n",
       "<!-- 139804138300672 -->\n",
       "<g id=\"node8\" class=\"node\">\n",
       "<title>139804138300672</title>\n",
       "<polygon fill=\"none\" stroke=\"black\" points=\"317,-83.5 317,-119.5 507,-119.5 507,-83.5 317,-83.5\"/>\n",
       "<text text-anchor=\"middle\" x=\"328.5\" y=\"-97.8\" font-family=\"Times,serif\" font-size=\"14.00\">d</text>\n",
       "<polyline fill=\"none\" stroke=\"black\" points=\"340,-83.5 340,-119.5\"/>\n",
       "<text text-anchor=\"middle\" x=\"382.5\" y=\"-97.8\" font-family=\"Times,serif\" font-size=\"14.00\">data &#45;6.0000</text>\n",
       "<polyline fill=\"none\" stroke=\"black\" points=\"425,-83.5 425,-119.5\"/>\n",
       "<text text-anchor=\"middle\" x=\"466\" y=\"-97.8\" font-family=\"Times,serif\" font-size=\"14.00\">grad 0.0000</text>\n",
       "</g>\n",
       "<!-- 139804138300672&#45;&gt;139804138304080+ -->\n",
       "<g id=\"edge9\" class=\"edge\">\n",
       "<title>139804138300672&#45;&gt;139804138304080+</title>\n",
       "<path fill=\"none\" stroke=\"black\" d=\"M506.59,-84.81C516.06,-83.12 525.22,-81.49 533.49,-80.01\"/>\n",
       "<polygon fill=\"black\" stroke=\"black\" points=\"533.82,-83.51 543.05,-78.31 532.59,-76.62 533.82,-83.51\"/>\n",
       "</g>\n",
       "<!-- 139804138300672*&#45;&gt;139804138300672 -->\n",
       "<g id=\"edge3\" class=\"edge\">\n",
       "<title>139804138300672*&#45;&gt;139804138300672</title>\n",
       "<path fill=\"none\" stroke=\"black\" d=\"M280.28,-101.5C287.79,-101.5 296.46,-101.5 305.7,-101.5\"/>\n",
       "<polygon fill=\"black\" stroke=\"black\" points=\"305.7,-105 315.7,-101.5 305.7,-98 305.7,-105\"/>\n",
       "</g>\n",
       "<!-- 139804138299712 -->\n",
       "<g id=\"node10\" class=\"node\">\n",
       "<title>139804138299712</title>\n",
       "<polygon fill=\"none\" stroke=\"black\" points=\"316,-28.5 316,-64.5 508,-64.5 508,-28.5 316,-28.5\"/>\n",
       "<text text-anchor=\"middle\" x=\"327.5\" y=\"-42.8\" font-family=\"Times,serif\" font-size=\"14.00\">c</text>\n",
       "<polyline fill=\"none\" stroke=\"black\" points=\"339,-28.5 339,-64.5\"/>\n",
       "<text text-anchor=\"middle\" x=\"382.5\" y=\"-42.8\" font-family=\"Times,serif\" font-size=\"14.00\">data 10.0000</text>\n",
       "<polyline fill=\"none\" stroke=\"black\" points=\"426,-28.5 426,-64.5\"/>\n",
       "<text text-anchor=\"middle\" x=\"467\" y=\"-42.8\" font-family=\"Times,serif\" font-size=\"14.00\">grad 0.0000</text>\n",
       "</g>\n",
       "<!-- 139804138299712&#45;&gt;139804138304080+ -->\n",
       "<g id=\"edge8\" class=\"edge\">\n",
       "<title>139804138299712&#45;&gt;139804138304080+</title>\n",
       "<path fill=\"none\" stroke=\"black\" d=\"M507.95,-62.83C516.87,-64.36 525.49,-65.85 533.33,-67.19\"/>\n",
       "<polygon fill=\"black\" stroke=\"black\" points=\"532.62,-70.62 543.07,-68.87 533.8,-63.72 532.62,-70.62\"/>\n",
       "</g>\n",
       "</g>\n",
       "</svg>\n"
      ],
      "text/plain": [
       "<graphviz.graphs.Digraph at 0x7f26b01f9480>"
      ]
     },
     "execution_count": 66,
     "metadata": {},
     "output_type": "execute_result"
    }
   ],
   "source": [
    "draw_dot(L)"
   ]
  },
  {
   "cell_type": "code",
   "execution_count": null,
   "id": "0c74bd4b-56c3-43cd-bcdc-8e4424229926",
   "metadata": {},
   "outputs": [],
   "source": []
  }
 ],
 "metadata": {
  "kernelspec": {
   "display_name": "Python 3 (ipykernel)",
   "language": "python",
   "name": "python3"
  },
  "language_info": {
   "codemirror_mode": {
    "name": "ipython",
    "version": 3
   },
   "file_extension": ".py",
   "mimetype": "text/x-python",
   "name": "python",
   "nbconvert_exporter": "python",
   "pygments_lexer": "ipython3",
   "version": "3.10.10"
  }
 },
 "nbformat": 4,
 "nbformat_minor": 5
}
